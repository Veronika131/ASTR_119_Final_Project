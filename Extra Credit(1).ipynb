{
 "cells": [
  {
   "cell_type": "code",
   "execution_count": null,
   "metadata": {},
   "outputs": [],
   "source": [
    "%matplotlib inline\n",
    "import numpy as np\n",
    "import matplotlib.pyplot as plt\n",
    "from astropy.io import fits"
   ]
  },
  {
   "cell_type": "markdown",
   "metadata": {},
   "source": [
    "### Open the FITS files  \n",
    "*(by Joy Velasquez)*\n"
   ]
  },
  {
   "cell_type": "code",
   "execution_count": null,
   "metadata": {},
   "outputs": [],
   "source": [
    "fname = \"/Users/Joyvelasquez/Desktop/hlsp_hudf12_hst_wfc3ir_udfmain_f105w_v1.0_drz.fits\"\n",
    "hdu_list = fits.open(fname)\n",
    "hdu_list.info()\n"
   ]
  },
  {
   "cell_type": "markdown",
   "metadata": {},
   "source": [
    "### image_data = hdu_list[0].data\n",
    "*(by Joy Velasquez)*"
   ]
  },
  {
   "cell_type": "code",
   "execution_count": null,
   "metadata": {},
   "outputs": [],
   "source": [
    "image_data = hdu_list[0].data"
   ]
  },
  {
   "cell_type": "markdown",
   "metadata": {},
   "source": [
    "### Data is stored as 2-D numpy array\n",
    "#### Print info about image _data  also  Closeing te fits file \n",
    "*(by Joy Velasquez)*"
   ]
  },
  {
   "cell_type": "code",
   "execution_count": null,
   "metadata": {},
   "outputs": [],
   "source": [
    "print(type(image_data))\n",
    "print(image_data.shape)\n",
    "\n",
    "\n",
    "#Closeing the fits file becuase we've stored everything we want\n",
    "hdu_list.close()"
   ]
  },
  {
   "cell_type": "markdown",
   "metadata": {},
   "source": [
    "### Shortcut: getdata() to read in just the image data\n",
    "*(by Joy Velasquez)*"
   ]
  },
  {
   "cell_type": "code",
   "execution_count": null,
   "metadata": {},
   "outputs": [],
   "source": [
    "image_data = fits.getdata(fname)\n",
    "print(type(image_data))\n",
    "print(image_data.shape)"
   ]
  },
  {
   "cell_type": "markdown",
   "metadata": {},
   "source": [
    "### Display of Data\n",
    "*(by Joy Velasquez)*"
   ]
  },
  {
   "cell_type": "code",
   "execution_count": null,
   "metadata": {},
   "outputs": [],
   "source": [
    "fig = plt.figure(figsize=(10,10))\n",
    "\n",
    "m, s = np.mean(image_data), np.std(image_data)\n",
    "\n",
    "plt.imshow(image_data, vmin=m-s, vmax=m+s , origin='lower', interpolation='nearest',cmap='gray')\n",
    "plt.colorbar()\n",
    "plt.show()\n",
    "\n",
    "# m - stores mean of our image_data \n",
    "# s - stores standard deviation of image_data \n",
    "# plt.imshow(..) displays an image data on 2D regular raster\n",
    "#      cmap - is a colormap instance that maps scalar data to colors\n",
    "#      vmin / vmax - defines the data range that the colormap covers \n",
    "#      origin - places [0,0] index of the array in the lower left corner of axes\n",
    "\n",
    "\n",
    "# saving fits file without object detection marks\n",
    "#plt.savefig('f105w_v1.0_drz.png', bbox_inches=\"tight\", dpi=600)"
   ]
  },
  {
   "cell_type": "markdown",
   "metadata": {},
   "source": [
    "### Some basic statistics about our image:\n",
    "*(by Joy Velasquez)*"
   ]
  },
  {
   "cell_type": "code",
   "execution_count": null,
   "metadata": {},
   "outputs": [],
   "source": [
    "print('Min',np.min(image_data))\n",
    "print('Max',np.max(image_data))\n",
    "print('Mean', np.mean(image_data))\n",
    "print('Stdev',np.std(image_data))"
   ]
  },
  {
   "cell_type": "markdown",
   "metadata": {},
   "source": [
    "### Plotting a Histogram\n",
    "*(by Joy Velasquez)*"
   ]
  },
  {
   "cell_type": "code",
   "execution_count": null,
   "metadata": {},
   "outputs": [],
   "source": [
    "histogram = plt.hist(image_data.flatten(),bins='auto')\n",
    "#histogram = plt.hist(image_data,bins='auto')"
   ]
  },
  {
   "cell_type": "code",
   "execution_count": null,
   "metadata": {},
   "outputs": [],
   "source": []
  },
  {
   "cell_type": "markdown",
   "metadata": {},
   "source": [
    "## Displaying the image with logarithmic scale\n",
    "*(by Joy Velasquez)*"
   ]
  },
  {
   "cell_type": "code",
   "execution_count": null,
   "metadata": {},
   "outputs": [],
   "source": [
    "from matplotlib.colors import LogNorm"
   ]
  },
  {
   "cell_type": "code",
   "execution_count": null,
   "metadata": {},
   "outputs": [],
   "source": [
    "fig = plt.figure(figsize=(10,10))\n",
    "plt.imshow(image_data,  norm = LogNorm(),cmap='gray',)\n",
    "\n",
    "#Chose the tick marks based on the histogram above\n",
    "cbar = plt.colorbar(ticks=[5.e3,1.e4,2.e4])\n",
    "cbar.ax.set_yticklabels(['5,000','10,000','20,000'])\n",
    "plt.show()"
   ]
  },
  {
   "cell_type": "markdown",
   "metadata": {},
   "source": [
    "### Stacking images\n",
    "*(by: Joy Velasquez)*"
   ]
  },
  {
   "cell_type": "code",
   "execution_count": null,
   "metadata": {},
   "outputs": [],
   "source": [
    "#making a list of filenames\n",
    "image_list =[ \"/Users/Joyvelasquez/Desktop/hlsp_hudf12_hst_wfc3ir_udfmain_f105w_v1.0_drz.fits\",\"/Users/Joyvelasquez/Desktop/hlsp_hudf12_hst_wfc3ir_udfmain_f125w_v1.0_drz.fits\", \"/Users/Joyvelasquez/Desktop/hlsp_hudf12_hst_wfc3ir_udfmain_f160w_v1.0_drz.fits\"]\n",
    "\n",
    "\n",
    "#make an array of images from the ist of images\n",
    "image_concat = [fits.getdata(image) for image in image_list]\n",
    "\n",
    "#Sum the images togehter\n",
    "final_image = np.sum(image_concat,axis=0)"
   ]
  },
  {
   "cell_type": "code",
   "execution_count": null,
   "metadata": {},
   "outputs": [],
   "source": []
  },
  {
   "cell_type": "markdown",
   "metadata": {},
   "source": [
    "## Histogram of the Final_image data"
   ]
  },
  {
   "cell_type": "code",
   "execution_count": null,
   "metadata": {},
   "outputs": [],
   "source": [
    "image_hist = plt.hist(final_image.flatten(),bins='auto')"
   ]
  },
  {
   "cell_type": "markdown",
   "metadata": {},
   "source": [
    "### Display of data\n",
    "*(by: Joy Velasquez)*"
   ]
  },
  {
   "cell_type": "code",
   "execution_count": null,
   "metadata": {
    "scrolled": false
   },
   "outputs": [],
   "source": [
    "fig = plt.figure(figsize=(10,10))\n",
    "m, s = np.mean(final_image), np.std( final_image) \n",
    "\n",
    "#plt.imshow( final_image, cmap='gray' , vmin=m-s, vmax=m+s)\n",
    "\n",
    "plt.imshow( final_image,cmap= 'plasma' ,vmin=m-s, vmax=m+s)\n",
    "\n",
    "plt.colorbar()\n",
    "plt.show()"
   ]
  },
  {
   "cell_type": "markdown",
   "metadata": {},
   "source": [
    "### Writing a new FITS files\n",
    "*Set clobber = true : You'll receive an error if the file you are trying to write already exist*\n",
    "#Sum the images togehter <br>\n",
    "*by: Joy Velasquez*"
   ]
  },
  {
   "cell_type": "code",
   "execution_count": null,
   "metadata": {},
   "outputs": [],
   "source": [
    "outfile = 'hub_final_image.fits'\n",
    "hdu = fits.PrimaryHDU(final_image)\n",
    "hdu.writeto(outfile,overwrite=True)"
   ]
  },
  {
   "cell_type": "code",
   "execution_count": null,
   "metadata": {},
   "outputs": [],
   "source": [
    "fig = plt.figure(figsize=(10,10))\n",
    "hdu_list=fits.open(outfile)\n",
    "header = hdu_list[0].header\n",
    "data = hdu_list[0].data\n",
    "m, s = np.mean(final_image), np.std( final_image) \n",
    "#vmin and vmax to set limits on the color scaling for imshow()\n",
    "plt.imshow(data, cmap= 'magma' , vmin=m-s, vmax=m+s)\n",
    "plt.plot()\n",
    "\n",
    "# saving fits file without object detection marks\n",
    "#plt.savefig('fhub_final_image.fits', bbox_inches=\"tight\", dpi=600)"
   ]
  },
  {
   "cell_type": "code",
   "execution_count": null,
   "metadata": {},
   "outputs": [],
   "source": []
  },
  {
   "cell_type": "code",
   "execution_count": null,
   "metadata": {},
   "outputs": [],
   "source": []
  },
  {
   "cell_type": "code",
   "execution_count": null,
   "metadata": {},
   "outputs": [],
   "source": []
  },
  {
   "cell_type": "code",
   "execution_count": null,
   "metadata": {},
   "outputs": [],
   "source": []
  },
  {
   "cell_type": "code",
   "execution_count": null,
   "metadata": {},
   "outputs": [],
   "source": []
  }
 ],
 "metadata": {
  "kernelspec": {
   "display_name": "Python 3",
   "language": "python",
   "name": "python3"
  },
  "language_info": {
   "codemirror_mode": {
    "name": "ipython",
    "version": 3
   },
   "file_extension": ".py",
   "mimetype": "text/x-python",
   "name": "python",
   "nbconvert_exporter": "python",
   "pygments_lexer": "ipython3",
   "version": "3.7.0"
  }
 },
 "nbformat": 4,
 "nbformat_minor": 2
}
