{
 "cells": [
  {
   "cell_type": "markdown",
   "metadata": {},
   "source": [
    "### Astronomical Source Detection using UDF  f105w image"
   ]
  },
  {
   "cell_type": "markdown",
   "metadata": {},
   "source": [
    "#### Following  the  tutorial  found  at https://sep.readthedocs.io/en/v1.0.x/tutorial.html,  but  using  the astropy  fits  routines  instead  of fitsio"
   ]
  },
  {
   "cell_type": "markdown",
   "metadata": {},
   "source": [
    "#### Importing libraries such as numpy astropy.io.fits instead of fitsio and matplotlib.pyplot <br> *(by Veronika C. Joseph)*"
   ]
  },
  {
   "cell_type": "code",
   "execution_count": null,
   "metadata": {},
   "outputs": [],
   "source": [
    "import numpy as np\n",
    "import numpy.ma as ma\n",
    "import sep\n",
    "import matplotlib.pyplot as plt\n",
    "from astropy.io import fits \n",
    "from astropy import units\n",
    "from astropy.utils.data import download_file\n",
    "from matplotlib import rcParams\n",
    "from matplotlib.colors import LogNorm\n",
    "from astropy.table import Table\n",
    "import matplotlib.colors as colors\n",
    "\n",
    "%matplotlib inline\n",
    "\n",
    "rcParams['figure.figsize'] = [10., 8.]"
   ]
  },
  {
   "cell_type": "markdown",
   "metadata": {},
   "source": [
    "#### Read in image from a FITS file usitng astropy.io fits.open method   <br> *(by Veronika C. Joseph)*"
   ]
  },
  {
   "cell_type": "code",
   "execution_count": null,
   "metadata": {},
   "outputs": [],
   "source": [
    "# hdulist returns an object HDUList that is list like collection of HDU objects\n",
    "\n",
    "# opening file with memmap = True since its big\n",
    "fits_file = \"hlsp_hudf12_hst_wfc3ir_udfmain_f105w_v1.0_drz.fits\"\n",
    "hdulist = fits.open(fits_file, memmap=True)\n",
    "\n",
    "# -- below shows info about the file we are reading-in\n",
    "print('Image info:\\n')\n",
    "hdulist.info()\n",
    "print('\\n')\n",
    "\n",
    "# image_data stores primary info about our FITS file\n",
    "image_data = hdulist[0].data \n",
    "print('\\n')\n",
    "\n",
    "# used below code to view parts of array to view data that we have from fits file\n",
    "# and to try to locate how are bad values represented (such as values of noise)\n",
    "# print(image_data[0:25, 0:25])\n",
    "print('Original image data array slice:\\n')\n",
    "print(image_data[350:360, 2000:2010])\n",
    "print(image_data[2000:2010, 1000:1010])\n",
    "print('\\n')\n",
    "\n",
    "# *** Below was used to try to test masking some values in array to see what happens with our background image\n",
    "\n",
    "# print('Image data array slice with values < 0 replaced by 0.0:\\n')\n",
    "# image_data[image_data < 0] = 0.0\n",
    "# taking log of positive pixel values: \n",
    "# image_data[image_data > 0] = np.log(image_data[image_data > 0])\n",
    "# print(image_data[1700:1710, 500:510])\n",
    "# print('\\n')\n",
    "\n",
    "# boolean array, mark any element < 0 as true\n",
    "#print('Boolean image data array slice for values < 0:\\n')\n",
    "#non_negative_image_data[image_data < 0] \n",
    "#print(non_negative_image_data[1700:1710, 500:510])\n",
    "\n",
    "# print('TESTING MASKING')\n",
    "# masked_image_data = ma.masked_less(image_data, 0)\n",
    "# take log of positive pixel values\n",
    "# log_image_data = np.log(masked_image_data)\n",
    "# print('\\nLog image data \\n')\n",
    "# print(log_image_data[1700:1705, 500:505])\n",
    "\n",
    "# print(ma.masked_less(image_data, 0)[1700:1710, 500:510])\n",
    "# print(masked_image_data[1700:1710, 500:510])\n",
    "\n",
    "#mask = image_data > 0\n",
    "#image_data[mask] = 777\n",
    "\n",
    "\n",
    "#print(image_data.size)\n",
    "\n",
    "# close fits file since we stored all the info into variable\n",
    "hdulist.close()\n"
   ]
  },
  {
   "cell_type": "markdown",
   "metadata": {},
   "source": [
    "#### Display the image from FITS file that was read in using plt.imshow method and plt.colorbar() <br> *(by Veronika C. Joseph)*"
   ]
  },
  {
   "cell_type": "code",
   "execution_count": null,
   "metadata": {},
   "outputs": [],
   "source": [
    "# m - stores mean of our image_data \n",
    "# s - stores standard deviation of image_data \n",
    "# plt.imshow(..) displays an image data on 2D regular raster\n",
    "#      cmap - is a colormap instance that maps scalar data to colors\n",
    "#      vmin / vmax - defines the data range that the colormap covers \n",
    "#      origin - places [0,0] index of the array in the lower left corner of axes\n",
    "\n",
    "m, s = np.mean(image_data), np.std(image_data)\n",
    "# m, s = np.mean(masked_image_data), np.std(masked_image_data)\n",
    "# using log of our positive image data \n",
    "# m, s = np.mean(masked_image_data), np.std(masked_image_data)\n",
    "\n",
    "\n",
    "plt.imshow(image_data, interpolation='nearest', cmap='bone', vmin = m-s, vmax = m+s, origin='lower')\n",
    "plt.colorbar();\n",
    "\n",
    "# saving fits file without object detection marks\n",
    "plt.savefig('f105w_image_from_fits_file.png')"
   ]
  },
  {
   "cell_type": "markdown",
   "metadata": {},
   "source": [
    "##### Plotting using LogNorm to get better idea of objects on this image"
   ]
  },
  {
   "cell_type": "code",
   "execution_count": null,
   "metadata": {},
   "outputs": [],
   "source": [
    "plt.imshow(image_data, cmap='RdBu_r', norm = LogNorm(), origin='lower')\n",
    "\n",
    "cbar = plt.colorbar(ticks=[5.e3, 1.e3, 2.e4])\n",
    "cbar.ax.set_yticklabels(['5,000', '10,000', '20,000'])"
   ]
  },
  {
   "cell_type": "markdown",
   "metadata": {},
   "source": [
    " #### Subtracting background using sep.bckground method, which will return Background object that holds the spatially varying background and spatially varying background noise level <br> *(by Veronika C. Joseph)*"
   ]
  },
  {
   "cell_type": "code",
   "execution_count": null,
   "metadata": {},
   "outputs": [],
   "source": [
    "image_data = image_data.byteswap(inplace=True).newbyteorder()\n",
    "\n",
    "bkg = sep.Background(image_data, bw=64, bh=64, fw=3, fh=3)"
   ]
  },
  {
   "cell_type": "markdown",
   "metadata": {},
   "source": [
    "#### Obtaining various information about our image from Background object bkg by using SEP methods such as globalback, globalrms <br> *(by Veronika C. Joseph)*"
   ]
  },
  {
   "cell_type": "code",
   "execution_count": null,
   "metadata": {},
   "outputs": [],
   "source": [
    "# get a \"global\" mean and noise of the image background:\n",
    "print('Global background level: ', bkg.globalback)\n",
    "print('Global background RMS:   ', bkg.globalrms)"
   ]
  },
  {
   "cell_type": "code",
   "execution_count": null,
   "metadata": {},
   "outputs": [],
   "source": [
    "# evaluate background as 2-D array, same size as original image\n",
    "bkg_image = bkg.back()\n",
    "\n",
    "# bkg_image = np.array(bkg)   # equivalent to above"
   ]
  },
  {
   "cell_type": "markdown",
   "metadata": {},
   "source": [
    "#### Showing our 2D background array using plt.imshow method specifying various attributes of graph  <br> *(by Veronika C. Joseph)*"
   ]
  },
  {
   "cell_type": "code",
   "execution_count": null,
   "metadata": {},
   "outputs": [],
   "source": [
    "# show the background\n",
    "plt.imshow(bkg_image, interpolation='nearest', cmap='gray',origin='lower')\n",
    "plt.colorbar();\n",
    "plt.savefig('f105w_2D_background.png', bbox_inches=\"tight\", dpi=600)"
   ]
  },
  {
   "cell_type": "code",
   "execution_count": null,
   "metadata": {},
   "outputs": [],
   "source": [
    "# evaluate the background noise as 2-D array, same size as original image\n",
    "bkg_rms = bkg.rms()"
   ]
  },
  {
   "cell_type": "markdown",
   "metadata": {},
   "source": [
    "#### Similar process here but instead we are showing 2D background noise array  <br> *(by Veronika C. Joseph)*"
   ]
  },
  {
   "cell_type": "code",
   "execution_count": null,
   "metadata": {},
   "outputs": [],
   "source": [
    "plt.imshow(bkg_rms, interpolation='nearest',cmap='gray',origin='lower')\n",
    "plt.colorbar();\n",
    "plt.savefig('f105w_2D_background_noise.png', bbox_inches=\"tight\", dpi=600)"
   ]
  },
  {
   "cell_type": "markdown",
   "metadata": {},
   "source": [
    "##### Subtracting background from our image and saving the result in data_sub variable <br>*(by Veronika C. Joseph)*"
   ]
  },
  {
   "cell_type": "code",
   "execution_count": null,
   "metadata": {},
   "outputs": [],
   "source": [
    "# subtract the background \n",
    "data_sub = image_data - bkg"
   ]
  },
  {
   "cell_type": "markdown",
   "metadata": {},
   "source": [
    "#### Running object detection on the background-subtracted data using sep.extract method that extracts sources from an image by specifying various controlling detection tresholds <br> *(by Veronika C. Joseph)*"
   ]
  },
  {
   "cell_type": "code",
   "execution_count": null,
   "metadata": {},
   "outputs": [],
   "source": [
    "# data_sub - is our new image data with subtracted background \n",
    "# 1.5 - is our current treshold pixel value for detection \n",
    "# err - specifies pixel-by-pixel detection treshold \n",
    "\n",
    "# testing various thresholds to try to eliminate noise \n",
    "objects = sep.extract(data_sub, 5, err=bkg.globalrms)"
   ]
  },
  {
   "cell_type": "code",
   "execution_count": null,
   "metadata": {},
   "outputs": [],
   "source": [
    "# how many objects were detected\n",
    "print('Number of objects detected: ', len(objects))"
   ]
  },
  {
   "cell_type": "markdown",
   "metadata": {},
   "source": [
    "#### Using objects['x'] and objects['y'] we'll obtain the centroid coordinates of the objects that were detected above.  Using Ellipse imported from matplotlib.patches, we'll overplot the object coordinates with basic shape parameters to check for the detected objects on our FITS image using custom plotting attributes <br>*(by Veronika C. Joseph)*"
   ]
  },
  {
   "cell_type": "code",
   "execution_count": null,
   "metadata": {},
   "outputs": [],
   "source": [
    "from matplotlib.patches import Ellipse\n",
    "from matplotlib.colors import LogNorm\n",
    "\n",
    "# plot background-subtracted image\n",
    "fig, ax = plt.subplots()\n",
    "m, s = np.mean(data_sub), np.std(data_sub)\n",
    "im = ax.imshow(data_sub, interpolation='nearest', cmap='bone', vmin=m-s, vmax=m+s, origin='lower')\n",
    "#plt.imshow(image_data, cmap='bone', norm=LogNorm())\n",
    "\n",
    "# plot an ellipse for each object\n",
    "for i in range(len(objects)):\n",
    "    e = Ellipse(xy = (objects['x'][i], objects['y'][i]),\n",
    "               width  = 6*objects['a'][i],\n",
    "               height = 6*objects['b'][i],\n",
    "               angle  = objects['theta'][i] * 180. / np.pi)\n",
    "    e.set_facecolor('none')\n",
    "    e.set_edgecolor('red')\n",
    "    ax.add_artist(e)\n",
    "\n",
    "    \n",
    "plt.savefig('f105w_with_circled_objects.png', bbox_inches=\"tight\", dpi=600)"
   ]
  },
  {
   "cell_type": "markdown",
   "metadata": {},
   "source": [
    "#### Next, we are performing simple circular aperture photometry with a 3.0 pixel radius at location of the objects using sep.sum_circle method that sums data in circular aperture(s) <br>*(by Veronika C. Joseph)*"
   ]
  },
  {
   "cell_type": "code",
   "execution_count": null,
   "metadata": {},
   "outputs": [],
   "source": [
    "# flux, fluxerr, flag: are all 1-D array with one entry per object\n",
    "flux, fluxerr, flag = sep.sum_circle(data_sub, objects['x'], objects['y'], 3.0, err=bkg.globalrms, gain=1.0)"
   ]
  },
  {
   "cell_type": "code",
   "execution_count": null,
   "metadata": {},
   "outputs": [],
   "source": [
    "# show the first 10 objects results:\n",
    "for i in range(10):\n",
    "    print(\"object {:d}: flux = {:f} +/- {:f}\".format(i, flux[i], fluxerr[i]))  "
   ]
  },
  {
   "cell_type": "markdown",
   "metadata": {},
   "source": [
    "#### Histogram of fluxes: "
   ]
  },
  {
   "cell_type": "markdown",
   "metadata": {},
   "source": [
    "### Extra Credit 3-image rgb file"
   ]
  },
  {
   "cell_type": "markdown",
   "metadata": {},
   "source": [
    "#### Extra Credit: Download the f125w and f160w images of the HUDF at the same website, and make a 3-color false image of the UDF using RGB -> f160w, f125w, f105w. Save the image as a PNG. <br> (by Veronika C. Joseph)"
   ]
  },
  {
   "cell_type": "markdown",
   "metadata": {},
   "source": [
    "##### Read in the 3 fits files that we'll use for creating RGB png image<br> (by Veronika C. Joseph)"
   ]
  },
  {
   "cell_type": "code",
   "execution_count": null,
   "metadata": {},
   "outputs": [],
   "source": [
    "file_f160w_r = \"hlsp_hudf12_hst_wfc3ir_udfmain_f160w_v1.0_drz.fits\"\n",
    "file_f125w_g = \"hlsp_hudf12_hst_wfc3ir_udfmain_f125w_v1.0_drz.fits\"\n",
    "file_f105w_b = \"hlsp_hudf12_hst_wfc3ir_udfmain_f105w_v1.0_drz.fits\"\n",
    "\n",
    "f160w_r = fits.open(file_f160w_r)[0].data\n",
    "\n",
    "f125w_g = fits.open(file_f125w_g)[0].data\n",
    "\n",
    "f105w_b = fits.open(file_f105w_b)[0].data\n"
   ]
  },
  {
   "cell_type": "markdown",
   "metadata": {},
   "source": [
    "#### Let's plot all three files using the default color map and by using log10  <br>(by Veronika C. Joseph)"
   ]
  },
  {
   "cell_type": "code",
   "execution_count": null,
   "metadata": {},
   "outputs": [],
   "source": [
    "f160w_r_log = np.log10(f160w_r)\n",
    "f_f160w_r = plt.figure(figsize=(7,7))\n",
    "plt.imshow(f160w_r_log)"
   ]
  },
  {
   "cell_type": "code",
   "execution_count": null,
   "metadata": {},
   "outputs": [],
   "source": [
    "f125w_g_log = np.log10(f125w_g)\n",
    "f_f125w_g = plt.figure(figsize=(7,7))\n",
    "plt.imshow(f125w_g_log)"
   ]
  },
  {
   "cell_type": "code",
   "execution_count": null,
   "metadata": {},
   "outputs": [],
   "source": [
    "f105w_b_log = np.log10(f105w_b)\n",
    "f_f105w_b = plt.figure(figsize=(7,7))\n",
    "plt.imshow(f105w_b_log)"
   ]
  },
  {
   "cell_type": "markdown",
   "metadata": {},
   "source": [
    "#### Making a 3-color image out of our 3 fits files: <br> (by Veronika C. Joseph)"
   ]
  },
  {
   "cell_type": "code",
   "execution_count": null,
   "metadata": {},
   "outputs": [],
   "source": [
    "rgb_image = np.zeros((3600,3600,3))\n",
    "\n",
    "rgb_image[:,:,0] = f105w_b\n",
    "rgb_image[:,:,1] = f125w_g\n",
    "rgb_image[:,:,2] = f160w_r\n",
    "\n",
    "rgb_image = colors.hsv_to_rgb(rgb_image)"
   ]
  },
  {
   "cell_type": "markdown",
   "metadata": {},
   "source": [
    "#### Plotting our RGB image generated from 3 image fits files <br> (by Veronika C. Joseph)"
   ]
  },
  {
   "cell_type": "code",
   "execution_count": null,
   "metadata": {},
   "outputs": [],
   "source": [
    "f = plt.figure(figsize=(7,7))\n",
    "plt.imshow(rgb_image)"
   ]
  },
  {
   "cell_type": "markdown",
   "metadata": {},
   "source": [
    "#### Saving our RGB image as a png file <br> (by Veornika C. Joseph)"
   ]
  },
  {
   "cell_type": "code",
   "execution_count": null,
   "metadata": {},
   "outputs": [],
   "source": [
    "plt.imsave(\"rgb_image.png\", rgb_image)"
   ]
  },
  {
   "cell_type": "code",
   "execution_count": null,
   "metadata": {},
   "outputs": [],
   "source": []
  }
 ],
 "metadata": {
  "kernelspec": {
   "display_name": "Python 3",
   "language": "python",
   "name": "python3"
  },
  "language_info": {
   "codemirror_mode": {
    "name": "ipython",
    "version": 3
   },
   "file_extension": ".py",
   "mimetype": "text/x-python",
   "name": "python",
   "nbconvert_exporter": "python",
   "pygments_lexer": "ipython3",
   "version": "3.7.0"
  }
 },
 "nbformat": 4,
 "nbformat_minor": 2
}
