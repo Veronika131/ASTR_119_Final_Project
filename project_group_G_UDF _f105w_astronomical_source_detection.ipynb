{
 "cells": [
  {
   "cell_type": "markdown",
   "metadata": {},
   "source": [
    "### Astronomical Source Detection using UDF  f105w image"
   ]
  },
  {
   "cell_type": "markdown",
   "metadata": {},
   "source": [
    "#### Following  the  tutorial  found  at https://sep.readthedocs.io/en/v1.0.x/tutorial.html,  but  using  the astropy  fits  routines  instead  of fitsio"
   ]
  },
  {
   "cell_type": "markdown",
   "metadata": {},
   "source": [
    "#### Importing libraries such as numpy astropy.io.fits instead of fitsio and matplotlib.pyplot <br> *(by Veronika C. Joseph)*"
   ]
  },
  {
   "cell_type": "code",
   "execution_count": null,
   "metadata": {},
   "outputs": [],
   "source": [
    "import numpy as np\n",
    "import sep\n",
    "import matplotlib.pyplot as plt\n",
    "from astropy.io import fits \n",
    "from astropy import units\n",
    "from astropy.utils.data import download_file\n",
    "from matplotlib import rcParams\n",
    "\n",
    "%matplotlib inline\n",
    "\n",
    "rcParams['figure.figsize'] = [10., 8.]"
   ]
  },
  {
   "cell_type": "markdown",
   "metadata": {},
   "source": [
    "#### Read in image from a FITS file usitng astropy.io fits.open method   <br> *(by Veronika C. Joseph)*"
   ]
  },
  {
   "cell_type": "code",
   "execution_count": null,
   "metadata": {},
   "outputs": [],
   "source": [
    "# hdulist returns an object HDUList that is list like collection of HDU objects\n",
    "#\n",
    "# *** I am using a local file (instead of downloading file directly) because there seems to\n",
    "#     be a problem with SSL certification validation using my current version of python.\n",
    "#     You will need to paste in your custom local path to image.fits if you want to test this.\n",
    "\n",
    "hdulist = fits.open('/Users/veronikajoseph/Documents/UCSC-Classes/ASTR_119/final_project/data/hlsp_hudf12_hst_wfc3ir_udfmain_f105w_v1.0_drz.fits')\n",
    "\n",
    "# trying the download_file feature -- doesn't work due to SSL certiicate verification problem\n",
    "#image_file = download_file('https://github.com/kbarbary/sep/blob/v1.0.x/data/image.fits', cache=True)\n",
    "\n",
    "# -- below shows info about the file we are reading-in\n",
    "print('Image info:\\n')\n",
    "hdulist.info()\n",
    "\n",
    "# image_data stores primary info about our FITS file\n",
    "image_data = hdulist[0].data \n",
    "\n",
    "# close fits file since we stored all the info into variable\n",
    "hdulist.close()\n"
   ]
  },
  {
   "cell_type": "markdown",
   "metadata": {},
   "source": [
    "#### Display the image from FITS file that was read in using plt.imshow method and plt.colorbar() <br> *(by Veronika C. Joseph)*"
   ]
  },
  {
   "cell_type": "code",
   "execution_count": null,
   "metadata": {},
   "outputs": [],
   "source": [
    "# m - stores mean of our image_data \n",
    "# s - stores standard deviation of image_data \n",
    "# plt.imshow(..) displays an image data on 2D regular raster\n",
    "#      cmap - is a colormap instance that maps scalar data to colors\n",
    "#      vmin / vmax - defines the data range that the colormap covers \n",
    "#      origin - places [0,0] index of the array in the lower left corner of axes\n",
    "\n",
    "m, s = np.mean(image_data), np.std(image_data)\n",
    "\n",
    "plt.imshow(image_data, interpolation='nearest', cmap='bone', vmin=m-s, vmax=m+s, origin='lower')\n",
    "plt.colorbar();\n",
    "\n",
    "# saving fits file without object detection marks\n",
    "plt.savefig('f105w_v1.0_drz.png')"
   ]
  },
  {
   "cell_type": "markdown",
   "metadata": {},
   "source": [
    "##### Plotting using LogNorm to get better idea of objects on this image"
   ]
  },
  {
   "cell_type": "code",
   "execution_count": null,
   "metadata": {},
   "outputs": [],
   "source": [
    "plt.imshow(image_data, cmap='RdBu_r', norm=LogNorm())\n",
    "\n",
    "cbar = plt.colorbar(ticks=[5.e3, 1.e3, 2.e4])\n",
    "cbar.ax.set_yticklabels(['5,000', '10,000', '20,000'])"
   ]
  },
  {
   "cell_type": "markdown",
   "metadata": {},
   "source": [
    " #### Subtracting background using sep.bckground method, which will return Background object that holds the spatially varying background and spatially varying background noise level <br> *(by Veronika C. Joseph)*"
   ]
  },
  {
   "cell_type": "code",
   "execution_count": null,
   "metadata": {},
   "outputs": [],
   "source": [
    "image_data = image_data.byteswap(inplace=True).newbyteorder()\n",
    "\n",
    "bkg = sep.Background(image_data, bw=64, bh=64, fw=3, fh=3)"
   ]
  },
  {
   "cell_type": "markdown",
   "metadata": {},
   "source": [
    "#### Obtaining various information about our image from Background object bkg by using SEP methods such as globalback, globalrms <br> *(by Veronika C. Joseph)*"
   ]
  },
  {
   "cell_type": "code",
   "execution_count": null,
   "metadata": {},
   "outputs": [],
   "source": [
    "# get a \"global\" mean and noise of the image background:\n",
    "print('Global background level: ', bkg.globalback)\n",
    "print('Global background RMS:   ', bkg.globalrms)"
   ]
  },
  {
   "cell_type": "code",
   "execution_count": null,
   "metadata": {},
   "outputs": [],
   "source": [
    "# evaluate background as 2-D array, same size as original image\n",
    "bkg_image = bkg.back()\n",
    "\n",
    "# bkg_image = np.array(bkg)   # equivalent to above"
   ]
  },
  {
   "cell_type": "markdown",
   "metadata": {},
   "source": [
    "#### Showing our 2D background array using plt.imshow method specifying various attributes of graph  <br> *(by Veronika C. Joseph)*"
   ]
  },
  {
   "cell_type": "code",
   "execution_count": null,
   "metadata": {},
   "outputs": [],
   "source": [
    "# show the background\n",
    "plt.imshow(bkg_image, interpolation='nearest', cmap='gray',origin='lower')\n",
    "plt.colorbar();"
   ]
  },
  {
   "cell_type": "code",
   "execution_count": null,
   "metadata": {},
   "outputs": [],
   "source": [
    "# evaluate the background noise as 2-D array, same size as original image\n",
    "bkg_rms = bkg.rms()"
   ]
  },
  {
   "cell_type": "markdown",
   "metadata": {},
   "source": [
    "#### Similar process here but instead we are showing 2D background noise array  <br> *(by Veronika C. Joseph)*"
   ]
  },
  {
   "cell_type": "code",
   "execution_count": null,
   "metadata": {},
   "outputs": [],
   "source": [
    "plt.imshow(bkg_rms, interpolation='nearest',cmap='gray',origin='lower')\n",
    "plt.colorbar();"
   ]
  },
  {
   "cell_type": "markdown",
   "metadata": {},
   "source": [
    "##### Subtracting background from our image and saving the result in data_sub variable <br>*(by Veronika C. Joseph)*"
   ]
  },
  {
   "cell_type": "code",
   "execution_count": null,
   "metadata": {},
   "outputs": [],
   "source": [
    "# subtract the background \n",
    "data_sub = image_data - bkg"
   ]
  },
  {
   "cell_type": "markdown",
   "metadata": {},
   "source": [
    "#### Running object detection on the background-subtracted data using sep.extract method that extracts sources from an image by specifying various controlling detection tresholds <br> *(by Veronika C. Joseph)*"
   ]
  },
  {
   "cell_type": "code",
   "execution_count": null,
   "metadata": {},
   "outputs": [],
   "source": [
    "# data_sub - is our new image data with subtracted background \n",
    "# 1.5 - is our current treshold pixel value for detection \n",
    "# err - specifies pixel-by-pixel detection treshold \n",
    "\n",
    "# testing various thresholds to try to eliminate noise \n",
    "#objects = sep.extract(data_sub, 30, err=bkg.globalrms)\n",
    "objects = sep.extract(data_sub, 1.5, err=bkg.globalrms, mask=image_data<=0.03)"
   ]
  },
  {
   "cell_type": "code",
   "execution_count": null,
   "metadata": {},
   "outputs": [],
   "source": [
    "# how many objects were detected\n",
    "print('Number of objects detected: ', len(objects))"
   ]
  },
  {
   "cell_type": "markdown",
   "metadata": {},
   "source": [
    "#### Using objects['x'] and objects['y'] we'll obtain the centroid coordinates of the objects that were detected above.  Using Ellipse imported from matplotlib.patches, we'll overplot the object coordinates with basic shape parameters to check for the detected objects on our FITS image using custom plotting attributes <br>*(by Veronika C. Joseph)*"
   ]
  },
  {
   "cell_type": "code",
   "execution_count": null,
   "metadata": {},
   "outputs": [],
   "source": [
    "from matplotlib.patches import Ellipse\n",
    "from matplotlib.colors import LogNorm\n",
    "\n",
    "# plot background-subtracted image\n",
    "fig, ax = plt.subplots()\n",
    "m, s = np.mean(data_sub), np.std(data_sub)\n",
    "im = ax.imshow(data_sub, interpolation='nearest', cmap='bone', vmin=m-s, vmax=m+s, origin='lower')\n",
    "#plt.imshow(image_data, cmap='bone', norm=LogNorm())\n",
    "\n",
    "# plot an ellipse for each object\n",
    "for i in range(len(objects)):\n",
    "    e = Ellipse(xy = (objects['x'][i], objects['y'][i]),\n",
    "               width  = 6*objects['a'][i],\n",
    "               height = 6*objects['b'][i],\n",
    "               angle  = objects['theta'][i] * 180. / np.pi)\n",
    "    e.set_facecolor('none')\n",
    "    e.set_edgecolor('red')\n",
    "    ax.add_artist(e)\n",
    "\n",
    "    \n",
    "plt.savefig('f105w_with_circled_objects.png', bbox_inches=\"tight\", dpi=600)"
   ]
  },
  {
   "cell_type": "markdown",
   "metadata": {},
   "source": [
    "#### Next, we are performing simple circular aperture photometry with a 3.0 pixel radius at location of the objects using sep.sum_circle method that sums data in circular aperture(s) <br>*(by Veronika C. Joseph)*"
   ]
  },
  {
   "cell_type": "code",
   "execution_count": null,
   "metadata": {},
   "outputs": [],
   "source": [
    "# flux, fluxerr, flag: are all 1-D array with one entry per object\n",
    "flux, fluxerr, flag = sep.sum_circle(data_sub, objects['x'], objects['y'], 3.0, err=bkg.globalrms, gain=1.0)"
   ]
  },
  {
   "cell_type": "code",
   "execution_count": null,
   "metadata": {},
   "outputs": [],
   "source": [
    "# show the first 10 objects results:\n",
    "for i in range(10):\n",
    "    print(\"object {:d}: flux = {:f} +/- {:f}\".format(i, flux[i], fluxerr[i]))  "
   ]
  },
  {
   "cell_type": "code",
   "execution_count": null,
   "metadata": {},
   "outputs": [],
   "source": []
  },
  {
   "cell_type": "code",
   "execution_count": null,
   "metadata": {},
   "outputs": [],
   "source": []
  }
 ],
 "metadata": {
  "kernelspec": {
   "display_name": "Python 3",
   "language": "python",
   "name": "python3"
  },
  "language_info": {
   "codemirror_mode": {
    "name": "ipython",
    "version": 3
   },
   "file_extension": ".py",
   "mimetype": "text/x-python",
   "name": "python",
   "nbconvert_exporter": "python",
   "pygments_lexer": "ipython3",
   "version": "3.7.0"
  }
 },
 "nbformat": 4,
 "nbformat_minor": 2
}
