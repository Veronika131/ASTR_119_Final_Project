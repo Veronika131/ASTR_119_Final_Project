{
 "cells": [
  {
   "cell_type": "markdown",
   "metadata": {},
   "source": [
    "Extra Credit: \n",
    "Download the f125w and f160w images of the HUDF at the same website, and make a 3-color false image of the UDF using RGB -> f160w, f125w, f105w. Save the image as a PNG.\n",
    "\n",
    "- This code was written following astropy.visualization make_lupton_rgb tutorial.\n",
    "<br> (by Veronika C. Joseph) "
   ]
  },
  {
   "cell_type": "code",
   "execution_count": null,
   "metadata": {},
   "outputs": [],
   "source": [
    "from astropy.io import fits\n",
    "import numpy as np\n",
    "import matplotlib.pyplot as plt\n",
    "import matplotlib.colors as colors\n",
    "from astropy.visualization import make_lupton_rgb"
   ]
  },
  {
   "cell_type": "markdown",
   "metadata": {},
   "source": [
    "Using astropy.visualization -> make_lupton_rgb method that returns colored image from up to 3 images via using asinh stretch. \n",
    "- make_lupton_rgb takes in 3 images:\n",
    "- 1st image:  is image to map to red\n",
    "- 2nd image:  is image to map to green\n",
    "- 3rd image:  is image to map to blue\n",
    "- stretch parameter alters linear stretch of the image\n",
    "   <br> (by Veronika C. Joseph) "
   ]
  },
  {
   "cell_type": "code",
   "execution_count": null,
   "metadata": {},
   "outputs": [],
   "source": [
    "f160w_r = fits.open(\"/Users/veronikajoseph/Documents/UCSC-Classes/ASTR_119/final_project/hlsp_hudf12_hst_wfc3ir_udfmain_f160w_v1.0_drz.fits\")[0].data\n",
    "\n",
    "f125w_g = fits.open(\"/Users/veronikajoseph/Documents/UCSC-Classes/ASTR_119/final_project/hlsp_hudf12_hst_wfc3ir_udfmain_f125w_v1.0_drz.fits\")[0].data\n",
    "\n",
    "f105w_b = fits.open(\"/Users/veronikajoseph/Documents/UCSC-Classes/ASTR_119/final_project/hlsp_hudf12_hst_wfc3ir_udfmain_f105w_v1.0_drz.fits\")[0].data\n",
    "\n",
    "# make_lupton_rgb a Red/Green/Blue color image from up to 3 images using \n",
    "# an asinh stretch. \n",
    "\n",
    "rgb_default = make_lupton_rgb(f160w_r, f125w_g, f105w_b, stretch = 0.05, filename = \"complete_rgb.png\")\n",
    "\n",
    "plt.imshow(rgb_default, origin='lower')"
   ]
  },
  {
   "cell_type": "markdown",
   "metadata": {},
   "source": [
    "Below code is just for testing purposes of createing rgb image from randomly generated images.\n",
    "<br> (by Veronika C. Joseph) "
   ]
  },
  {
   "cell_type": "code",
   "execution_count": null,
   "metadata": {},
   "outputs": [],
   "source": [
    "# image_r = np.random.random((100,100))\n",
    "# image_g = np.random.random((100,100))\n",
    "# image_b = np.random.random((100,100))\n",
    "# image = make_lupton_rgb(image_r, image_g, image_b, stretch=0.5)\n",
    "# plt.imshow(image)\n"
   ]
  },
  {
   "cell_type": "code",
   "execution_count": null,
   "metadata": {},
   "outputs": [],
   "source": []
  }
 ],
 "metadata": {
  "kernelspec": {
   "display_name": "Python 3",
   "language": "python",
   "name": "python3"
  },
  "language_info": {
   "codemirror_mode": {
    "name": "ipython",
    "version": 3
   },
   "file_extension": ".py",
   "mimetype": "text/x-python",
   "name": "python",
   "nbconvert_exporter": "python",
   "pygments_lexer": "ipython3",
   "version": "3.7.0"
  }
 },
 "nbformat": 4,
 "nbformat_minor": 2
}
